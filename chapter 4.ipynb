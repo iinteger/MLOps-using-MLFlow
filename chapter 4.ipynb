{
 "cells": [
  {
   "cell_type": "code",
   "execution_count": 1,
   "metadata": {
    "collapsed": true
   },
   "outputs": [],
   "source": [
    "import numpy as np\n",
    "import pandas as pd\n",
    "import matplotlib\n",
    "import matplotlib.pyplot as plt\n",
    "import seaborn as sns\n",
    "import sklearn\n",
    "from sklearn.linear_model import LogisticRegression\n",
    "from sklearn.model_selection import train_test_split, KFold\n",
    "from sklearn.preprocessing import StandardScaler\n",
    "from sklearn.metrics import roc_auc_score, plot_roc_curve, confusion_matrix\n",
    "\n",
    "import mlflow\n",
    "import mlflow.sklearn\n",
    "from sqlalchemy.dialects.postgresql import array"
   ]
  },
  {
   "cell_type": "code",
   "execution_count": 2,
   "outputs": [],
   "source": [
    "data_path = \"data/creditcard.csv\"\n",
    "df = pd.read_csv(data_path)\n",
    "df = df.drop(\"Time\", axis=1)"
   ],
   "metadata": {
    "collapsed": false,
    "pycharm": {
     "name": "#%%\n"
    }
   }
  },
  {
   "cell_type": "code",
   "execution_count": 3,
   "outputs": [],
   "source": [
    "normal = df[df.Class == 0].sample(frac=0.5, random_state=2020).reset_index(drop=True)\n",
    "anomaly = df[df.Class == 1]"
   ],
   "metadata": {
    "collapsed": false,
    "pycharm": {
     "name": "#%%\n"
    }
   }
  },
  {
   "cell_type": "code",
   "execution_count": 4,
   "outputs": [
    {
     "name": "stdout",
     "output_type": "stream",
     "text": [
      "Normal : (142158, 30)\n",
      "anomaly : (492, 30)\n"
     ]
    }
   ],
   "source": [
    "print(f\"Normal : {normal.shape}\")\n",
    "print(f\"anomaly : {anomaly.shape}\")"
   ],
   "metadata": {
    "collapsed": false,
    "pycharm": {
     "name": "#%%\n"
    }
   }
  },
  {
   "cell_type": "code",
   "execution_count": 5,
   "outputs": [],
   "source": [
    "normal_train, normal_test = train_test_split(normal, test_size=0.2, random_state=2020)\n",
    "anomaly_train, anomaly_test = train_test_split(anomaly, test_size=0.2, random_state=2020)\n",
    "\n",
    "normal_train, normal_validate = train_test_split(normal_train, test_size=0.25, random_state=2020)\n",
    "anomaly_train, anomaly_validate = train_test_split(anomaly_train, test_size=0.25, random_state=2020)"
   ],
   "metadata": {
    "collapsed": false,
    "pycharm": {
     "name": "#%%\n"
    }
   }
  },
  {
   "cell_type": "code",
   "execution_count": 6,
   "outputs": [],
   "source": [
    "x_train = pd.concat((normal_train, anomaly_train))\n",
    "x_test = pd.concat((normal_test, anomaly_test))\n",
    "x_validate = pd.concat((normal_validate, anomaly_validate))\n",
    "\n",
    "y_train = np.array(x_train[\"Class\"])\n",
    "y_test = np.array(x_test[\"Class\"])\n",
    "y_validate = np.array(x_validate[\"Class\"])\n",
    "\n",
    "x_train = x_train.drop(\"Class\", axis=1)\n",
    "x_test = x_test.drop(\"Class\", axis=1)\n",
    "x_validate = x_validate.drop(\"Class\", axis=1)"
   ],
   "metadata": {
    "collapsed": false,
    "pycharm": {
     "name": "#%%\n"
    }
   }
  },
  {
   "cell_type": "code",
   "execution_count": 7,
   "outputs": [],
   "source": [
    "scaler = StandardScaler()\n",
    "scaler.fit(pd.concat((normal, anomaly)).drop(\"Class\", axis=1))\n",
    "\n",
    "x_train = scaler.transform(x_train)\n",
    "x_test = scaler.transform(x_test)\n",
    "x_validate = scaler.transform(x_validate)"
   ],
   "metadata": {
    "collapsed": false,
    "pycharm": {
     "name": "#%%\n"
    }
   }
  },
  {
   "cell_type": "code",
   "execution_count": 8,
   "outputs": [],
   "source": [
    "# mlflow에서 train_acc를 로깅하여 매 실행에서 이 값을 추적하도록 함\n",
    "\n",
    "def train(sk_model, x_train, y_train):\n",
    "    sk_model = sk_model.fit(x_train, y_train)\n",
    "    train_acc = sk_model.score(x_train, y_train)\n",
    "\n",
    "    mlflow.log_metric(\"train_acc\", train_acc)\n",
    "    print(f\"Train Accuracy : {train_acc:.3%}\")"
   ],
   "metadata": {
    "collapsed": false,
    "pycharm": {
     "name": "#%%\n"
    }
   }
  },
  {
   "cell_type": "code",
   "execution_count": 9,
   "outputs": [],
   "source": [
    "# 위와 마찬가지로 eval_acc, auc_score 모두 로깅\n",
    "# log_artifact()로 플롯도 저장할 수 있음\n",
    "\n",
    "def evaluate(sk_model, x_test, y_test):\n",
    "    eval_acc = sk_model.score(x_test, y_test)\n",
    "    preds = sk_model.predict(x_test)\n",
    "    auc_score = roc_auc_score(y_test, preds)\n",
    "\n",
    "    mlflow.log_metric(\"eval_acc\", eval_acc)\n",
    "    mlflow.log_metric(\"auc_score\", auc_score)\n",
    "    print(f\"Auc Score : {auc_score:.3%}\")\n",
    "    print(f\"Eval Accuracy : {eval_acc:.3%}\")\n",
    "\n",
    "    roc_plot = plot_roc_curve(sk_model, x_test, y_test, name=\"scikit-learn ROC Curve\")\n",
    "    plt.savefig(\"sklearn_roc_plot.png\")\n",
    "    plt.show()\n",
    "    plt.clf()\n",
    "\n",
    "    conf_matrix = confusion_matrix(y_test, preds)\n",
    "    ax = sns.heatmap(conf_matrix, annot=True, fmt=\"g\")\n",
    "    ax.invert_xaxis()\n",
    "    ax.invert_yaxis()\n",
    "    plt.ylabel(\"Actual\")\n",
    "    plt.xlabel(\"Predicted\")\n",
    "    plt.title(\"Confusion Matrix\")\n",
    "    plt.savefig(\"sklearn_conf_matrix.png\")\n",
    "\n",
    "    mlflow.log_artifact(\"sklearn_roc_plot.png\")\n",
    "    mlflow.log_artifact(\"sklearn_conf_matrix.png\")"
   ],
   "metadata": {
    "collapsed": false,
    "pycharm": {
     "name": "#%%\n"
    }
   }
  },
  {
   "cell_type": "code",
   "execution_count": 10,
   "outputs": [
    {
     "name": "stderr",
     "output_type": "stream",
     "text": [
      "2022/03/11 12:31:09 INFO mlflow.tracking.fluent: Experiment with name 'scikit_learn_experiment' does not exist. Creating a new experiment.\n",
      "2022/03/11 12:31:09 WARNING mlflow.tracking.context.git_context: Failed to import Git (the Git executable is probably not on your PATH), so Git SHA is not available. Error: Failed to initialize: Bad git executable.\n",
      "The git executable must be specified in one of the following ways:\n",
      "    - be included in your $PATH\n",
      "    - be set via $GIT_PYTHON_GIT_EXECUTABLE\n",
      "    - explicitly set via git.refresh()\n",
      "\n",
      "All git commands will error until this is rectified.\n",
      "\n",
      "This initial warning can be silenced or aggravated in the future by setting the\n",
      "$GIT_PYTHON_REFRESH environment variable. Use one of the following values:\n",
      "    - quiet|q|silence|s|none|n|0: for no warning or exception\n",
      "    - warn|w|warning|1: for a printed warning\n",
      "    - error|e|raise|r|2: for a raised exception\n",
      "\n",
      "Example:\n",
      "    export GIT_PYTHON_REFRESH=quiet\n",
      "\n"
     ]
    },
    {
     "name": "stdout",
     "output_type": "stream",
     "text": [
      "Train Accuracy : 99.893%\n",
      "Auc Score : 85.341%\n",
      "Eval Accuracy : 99.874%\n"
     ]
    },
    {
     "data": {
      "text/plain": "<Figure size 432x288 with 1 Axes>",
      "image/png": "[encoded data removed]"
     },
     "metadata": {
      "needs_background": "light"
     },
     "output_type": "display_data"
    },
    {
     "name": "stdout",
     "output_type": "stream",
     "text": [
      "Model run : e54bcac3a2c74f03a1f9a0a67c5d1a02\n"
     ]
    },
    {
     "data": {
      "text/plain": "<Figure size 432x288 with 2 Axes>",
      "image/png": "[encoded data removed]"
     },
     "metadata": {
      "needs_background": "light"
     },
     "output_type": "display_data"
    }
   ],
   "source": [
    "sk_model = LogisticRegression(random_state=None, max_iter=400, solver=\"newton-cg\")\n",
    "\n",
    "# 실험 이름 설정\n",
    "mlflow.set_experiment(\"scikit_learn_experiment\")\n",
    "\n",
    "with mlflow.start_run():\n",
    "    train(sk_model, x_train, y_train)\n",
    "    evaluate(sk_model, x_test, y_test)\n",
    "    mlflow.sklearn.log_model(sk_model, \"log_reg_model\")  # 저장할 모델과 이름\n",
    "    print(\"Model run :\", mlflow.active_run().info.run_uuid)  # 로깅되는 실행 출력\n",
    "\n",
    "mlflow.end_run()  # 실행 종료"
   ],
   "metadata": {
    "collapsed": false,
    "pycharm": {
     "name": "#%%\n"
    }
   }
  },
  {
   "cell_type": "code",
   "source": [
    "loaded_model = mlflow.sklearn.load_model(\"runs:/e54bcac3a2c74f03a1f9a0a67c5d1a02/log_reg_model\")  # 포맷:/실행 ID/모델 이름"
   ],
   "metadata": {
    "collapsed": false,
    "pycharm": {
     "name": "#%%\n"
    }
   },
   "execution_count": 11,
   "outputs": []
  },
  {
   "cell_type": "code",
   "execution_count": 12,
   "outputs": [
    {
     "data": {
      "text/plain": "0.9987382145736217"
     },
     "execution_count": 12,
     "metadata": {},
     "output_type": "execute_result"
    }
   ],
   "source": [
    "loaded_model.score(x_test, y_test)"
   ],
   "metadata": {
    "collapsed": false,
    "pycharm": {
     "name": "#%%\n"
    }
   }
  },
  {
   "cell_type": "code",
   "execution_count": 15,
   "outputs": [],
   "source": [
    "# 모델 적재 및 파라미터 튜닝\n",
    "\n",
    "anomaly_weights = [1, 5, 10, 15]\n",
    "num_folds = 5\n",
    "kfold = KFold(n_splits=num_folds, shuffle=True, random_state=2020)"
   ],
   "metadata": {
    "collapsed": false,
    "pycharm": {
     "name": "#%%\n"
    }
   }
  },
  {
   "cell_type": "code",
   "execution_count": 16,
   "outputs": [
    {
     "name": "stdout",
     "output_type": "stream",
     "text": [
      "----------------------------------------\n",
      "\n",
      "fold 1\n",
      "Anomaly Weight: 1\n",
      "AUC: 0.8\n",
      "eval_acc: 0.9985982127212195\n",
      "----------------------------------------\n",
      "\n",
      "fold 2\n",
      "Anomaly Weight: 1\n",
      "AUC: 0.8568790049001132\n",
      "eval_acc: 0.998422712933754\n",
      "----------------------------------------\n",
      "\n",
      "fold 3\n",
      "Anomaly Weight: 1\n",
      "AUC: 0.8406451922461774\n",
      "eval_acc: 0.9982474588152822\n",
      "----------------------------------------\n",
      "\n",
      "fold 4\n",
      "Anomaly Weight: 1\n",
      "AUC: 0.8682452129973255\n",
      "eval_acc: 0.9987732211706976\n",
      "----------------------------------------\n",
      "\n",
      "fold 5\n",
      "Anomaly Weight: 1\n",
      "AUC: 0.8528532875621686\n",
      "eval_acc: 0.9989484752891693\n",
      "\n",
      "Averages : \n",
      "Accuracy : 0.9985980161860246\n",
      "AUC : 0.8528532875621686\n",
      "Best :\n",
      "Accuracy : 0.9989484752891693\n",
      "AUC : 0.8528532875621686\n",
      "----------------------------------------\n",
      "\n",
      "fold 1\n",
      "Anomaly Weight: 5\n",
      "AUC: 0.8748241603657465\n",
      "eval_acc: 0.9987734361310671\n",
      "----------------------------------------\n",
      "\n",
      "fold 2\n",
      "Anomaly Weight: 5\n",
      "AUC: 0.975398919462244\n",
      "eval_acc: 0.9982474588152822\n",
      "----------------------------------------\n",
      "\n",
      "fold 3\n",
      "Anomaly Weight: 5\n",
      "AUC: 0.9314663169342972\n",
      "eval_acc: 0.9987732211706976\n",
      "----------------------------------------\n",
      "\n",
      "fold 4\n",
      "Anomaly Weight: 5\n",
      "AUC: 0.8943851628367561\n",
      "eval_acc: 0.9985979670522257\n",
      "----------------------------------------\n",
      "\n",
      "fold 5\n",
      "Anomaly Weight: 5\n",
      "AUC: 0.8820013855427915\n",
      "eval_acc: 0.9985979670522257\n",
      "\n",
      "Averages : \n",
      "Accuracy : 0.9985980100442996\n",
      "AUC : 0.8820013855427915\n",
      "Best :\n",
      "Accuracy : 0.9987734361310671\n",
      "AUC : 0.8820013855427915\n",
      "----------------------------------------\n",
      "\n",
      "fold 1\n",
      "Anomaly Weight: 10\n",
      "AUC: 0.9243845612801126\n",
      "eval_acc: 0.9982477659015244\n",
      "----------------------------------------\n",
      "\n",
      "fold 2\n",
      "Anomaly Weight: 10\n",
      "AUC: 0.9753109687146626\n",
      "eval_acc: 0.9980722046968104\n",
      "----------------------------------------\n",
      "\n",
      "fold 3\n",
      "Anomaly Weight: 10\n",
      "AUC: 0.9313783507133262\n",
      "eval_acc: 0.9985979670522257\n",
      "----------------------------------------\n",
      "\n",
      "fold 4\n",
      "Anomaly Weight: 10\n",
      "AUC: 0.8943851628367561\n",
      "eval_acc: 0.9985979670522257\n",
      "----------------------------------------\n",
      "\n",
      "fold 5\n",
      "Anomaly Weight: 10\n",
      "AUC: 0.8820013855427915\n",
      "eval_acc: 0.9985979670522257\n",
      "\n",
      "Averages : \n",
      "Accuracy : 0.9984227743510024\n",
      "AUC : 0.8820013855427915\n",
      "Best :\n",
      "Accuracy : 0.9985979670522257\n",
      "AUC : 0.8820013855427915\n",
      "----------------------------------------\n",
      "\n",
      "fold 1\n",
      "Anomaly Weight: 15\n",
      "AUC: 0.9242966414629858\n",
      "eval_acc: 0.9980725424916769\n",
      "----------------------------------------\n",
      "\n",
      "fold 2\n",
      "Anomaly Weight: 15\n",
      "AUC: 0.9751350672194998\n",
      "eval_acc: 0.9977216964598669\n",
      "----------------------------------------\n",
      "\n",
      "fold 3\n",
      "Anomaly Weight: 15\n",
      "AUC: 0.9312903844923551\n",
      "eval_acc: 0.998422712933754\n",
      "----------------------------------------\n",
      "\n",
      "fold 4\n",
      "Anomaly Weight: 15\n",
      "AUC: 0.8940334835682489\n",
      "eval_acc: 0.9978969505783386\n",
      "----------------------------------------\n",
      "\n",
      "fold 5\n",
      "Anomaly Weight: 15\n",
      "AUC: 0.8813861631838532\n",
      "eval_acc: 0.9973711882229233\n",
      "\n",
      "Averages : \n",
      "Accuracy : 0.9978970181373118\n",
      "AUC : 0.8813861631838532\n",
      "Best :\n",
      "Accuracy : 0.998422712933754\n",
      "AUC : 0.8813861631838532\n"
     ]
    }
   ],
   "source": [
    "# 10, 15일 때 가장 높았지만 이상 가중치가 증가할수록 상승 추세\n",
    "\n",
    "mlflow.set_experiment(\"sklearn_creditcard_board_search\")\n",
    "logs = []\n",
    "\n",
    "for f in range(len(anomaly_weights)):\n",
    "    fold = 1\n",
    "    accuracies = []\n",
    "    auc_scores = []\n",
    "    for train, test in kfold.split(x_validate, y_validate):\n",
    "\n",
    "        with mlflow.start_run():\n",
    "            weight = anomaly_weights[f]\n",
    "            mlflow.log_param(\"anomaly_weight\", weight)\n",
    "            class_weights = {\n",
    "                0:1,\n",
    "                1:weight\n",
    "            }\n",
    "\n",
    "            sk_model = LogisticRegression(max_iter=400, solver=\"newton-cg\", class_weight=class_weights).fit(x_validate[train], y_validate[train])\n",
    "\n",
    "            print('-'*40)\n",
    "            print(f\"\\nfold {fold}\\nAnomaly Weight: {weight}\")\n",
    "\n",
    "            train_acc = sk_model.score(x_validate[train], y_validate[train])\n",
    "            mlflow.log_metric(\"train_acc\", train_acc)\n",
    "\n",
    "            eval_acc = sk_model.score(x_validate[test], y_validate[test])\n",
    "            preds = sk_model.predict(x_validate[test])\n",
    "            mlflow.log_metric(\"eval_acc\", eval_acc)\n",
    "\n",
    "            try:\n",
    "                auc_score = roc_auc_score(y_validate[test], preds)\n",
    "            except:\n",
    "                auc_score = -1\n",
    "\n",
    "            mlflow.log_metric(\"auc_score\", auc_score)\n",
    "            print(f\"AUC: {auc_score}\\neval_acc: {eval_acc}\")\n",
    "\n",
    "            accuracies.append(eval_acc)\n",
    "            auc_scores.append(auc_score)\n",
    "\n",
    "            log = [sk_model, x_validate[test], y_validate[test], preds]\n",
    "            logs.append(log)\n",
    "            fold += 1\n",
    "            mlflow.end_run()\n",
    "\n",
    "    print(\"\\nAverages : \")\n",
    "    print(\"Accuracy :\", np.mean(accuracies))\n",
    "    print(\"AUC :\", np.mean(auc_score))\n",
    "    print(\"Best :\")\n",
    "    print(\"Accuracy :\", np.max(accuracies))\n",
    "    print(\"AUC :\", np.max(auc_score))"
   ],
   "metadata": {
    "collapsed": false,
    "pycharm": {
     "name": "#%%\n"
    }
   }
  },
  {
   "cell_type": "code",
   "execution_count": 17,
   "outputs": [],
   "source": [
    "# guided search\n",
    "\n",
    "anomaly_weights = [10, 50, 100, 150, 200]\n",
    "num_folds = 5\n",
    "kfold = KFold(n_splits=num_folds, shuffle=True, random_state=2020)"
   ],
   "metadata": {
    "collapsed": false,
    "pycharm": {
     "name": "#%%\n"
    }
   }
  },
  {
   "cell_type": "code",
   "execution_count": 18,
   "outputs": [
    {
     "name": "stderr",
     "output_type": "stream",
     "text": [
      "2022/03/11 13:06:12 INFO mlflow.tracking.fluent: Experiment with name 'sklearn_creditcard_guided_search' does not exist. Creating a new experiment.\n"
     ]
    },
    {
     "name": "stdout",
     "output_type": "stream",
     "text": [
      "----------------------------------------\n",
      "\n",
      "fold 1\n",
      "Anomaly Weight: 10\n",
      "AUC: 0.9243845612801126\n",
      "eval_acc: 0.9982477659015244\n",
      "----------------------------------------\n",
      "\n",
      "fold 2\n",
      "Anomaly Weight: 10\n",
      "AUC: 0.9753109687146626\n",
      "eval_acc: 0.9980722046968104\n",
      "----------------------------------------\n",
      "\n",
      "fold 3\n",
      "Anomaly Weight: 10\n",
      "AUC: 0.9313783507133262\n",
      "eval_acc: 0.9985979670522257\n",
      "----------------------------------------\n",
      "\n",
      "fold 4\n",
      "Anomaly Weight: 10\n",
      "AUC: 0.8943851628367561\n",
      "eval_acc: 0.9985979670522257\n",
      "----------------------------------------\n",
      "\n",
      "fold 5\n",
      "Anomaly Weight: 10\n",
      "AUC: 0.8820013855427915\n",
      "eval_acc: 0.9985979670522257\n",
      "\n",
      "Averages : \n",
      "Accuracy : 0.9984227743510024\n",
      "AUC : 0.8820013855427915\n",
      "Best :\n",
      "Accuracy : 0.9985979670522257\n",
      "AUC : 0.8820013855427915\n",
      "----------------------------------------\n",
      "\n",
      "fold 1\n",
      "Anomaly Weight: 50\n",
      "AUC: 0.922626164937577\n",
      "eval_acc: 0.9947432977045734\n",
      "----------------------------------------\n",
      "\n",
      "fold 2\n",
      "Anomaly Weight: 50\n",
      "AUC: 0.9734640030154541\n",
      "eval_acc: 0.9943918682089029\n",
      "----------------------------------------\n",
      "\n",
      "fold 3\n",
      "Anomaly Weight: 50\n",
      "AUC: 0.9296190262939033\n",
      "eval_acc: 0.99509288468279\n",
      "----------------------------------------\n",
      "\n",
      "fold 4\n",
      "Anomaly Weight: 50\n",
      "AUC: 0.9183271172480171\n",
      "eval_acc: 0.9940413599719593\n",
      "----------------------------------------\n",
      "\n",
      "fold 5\n",
      "Anomaly Weight: 50\n",
      "AUC: 0.8797162739238779\n",
      "eval_acc: 0.9940413599719593\n",
      "\n",
      "Averages : \n",
      "Accuracy : 0.994462154108037\n",
      "AUC : 0.8797162739238779\n",
      "Best :\n",
      "Accuracy : 0.99509288468279\n",
      "AUC : 0.8797162739238779\n",
      "----------------------------------------\n",
      "\n",
      "fold 1\n",
      "Anomaly Weight: 100\n",
      "AUC: 0.9205160893265342\n",
      "eval_acc: 0.990537935868232\n",
      "----------------------------------------\n",
      "\n",
      "fold 2\n",
      "Anomaly Weight: 100\n",
      "AUC: 0.9951627088830255\n",
      "eval_acc: 0.9903610234840519\n",
      "----------------------------------------\n",
      "\n",
      "fold 3\n",
      "Anomaly Weight: 100\n",
      "AUC: 0.9268920734437976\n",
      "eval_acc: 0.9896600070101648\n",
      "----------------------------------------\n",
      "\n",
      "fold 4\n",
      "Anomaly Weight: 100\n",
      "AUC: 0.9429724301962926\n",
      "eval_acc: 0.9908867858394672\n",
      "----------------------------------------\n",
      "\n",
      "fold 5\n",
      "Anomaly Weight: 100\n",
      "AUC: 0.8777827179386432\n",
      "eval_acc: 0.9901857693655801\n",
      "\n",
      "Averages : \n",
      "Accuracy : 0.9903263043134993\n",
      "AUC : 0.8777827179386432\n",
      "Best :\n",
      "Accuracy : 0.9908867858394672\n",
      "AUC : 0.8777827179386432\n",
      "----------------------------------------\n",
      "\n",
      "fold 1\n",
      "Anomaly Weight: 150\n",
      "AUC: 0.9186697731668719\n",
      "eval_acc: 0.9868582442614333\n",
      "----------------------------------------\n",
      "\n",
      "fold 2\n",
      "Anomaly Weight: 150\n",
      "AUC: 0.9927000879507476\n",
      "eval_acc: 0.985453908166842\n",
      "----------------------------------------\n",
      "\n",
      "fold 3\n",
      "Anomaly Weight: 150\n",
      "AUC: 0.9247808841404901\n",
      "eval_acc: 0.985453908166842\n",
      "----------------------------------------\n",
      "\n",
      "fold 4\n",
      "Anomaly Weight: 150\n",
      "AUC: 0.9411261140366303\n",
      "eval_acc: 0.9872064493515598\n",
      "----------------------------------------\n",
      "\n",
      "fold 5\n",
      "Anomaly Weight: 150\n",
      "AUC: 0.9053488155677106\n",
      "eval_acc: 0.9866806869961444\n",
      "\n",
      "Averages : \n",
      "Accuracy : 0.9863306393885642\n",
      "AUC : 0.9053488155677106\n",
      "Best :\n",
      "Accuracy : 0.9872064493515598\n",
      "AUC : 0.9053488155677106\n",
      "----------------------------------------\n",
      "\n",
      "fold 1\n",
      "Anomaly Weight: 200\n",
      "AUC: 0.9427026551784772\n",
      "eval_acc: 0.9851060101629577\n",
      "----------------------------------------\n",
      "\n",
      "fold 2\n",
      "Anomaly Weight: 200\n",
      "AUC: 0.9904133685136324\n",
      "eval_acc: 0.9808973010865756\n",
      "----------------------------------------\n",
      "\n",
      "fold 3\n",
      "Anomaly Weight: 200\n",
      "AUC: 0.9226696948371826\n",
      "eval_acc: 0.9812478093235191\n",
      "----------------------------------------\n",
      "\n",
      "fold 4\n",
      "Anomaly Weight: 200\n",
      "AUC: 0.9391039582427143\n",
      "eval_acc: 0.9831756046267087\n",
      "----------------------------------------\n",
      "\n",
      "fold 5\n",
      "Anomaly Weight: 200\n",
      "AUC: 0.9029758150403772\n",
      "eval_acc: 0.9819488257974063\n",
      "\n",
      "Averages : \n",
      "Accuracy : 0.9824751101994336\n",
      "AUC : 0.9029758150403772\n",
      "Best :\n",
      "Accuracy : 0.9851060101629577\n",
      "AUC : 0.9029758150403772\n"
     ]
    }
   ],
   "source": [
    "mlflow.set_experiment(\"sklearn_creditcard_guided_search\")\n",
    "logs = []\n",
    "\n",
    "for f in range(len(anomaly_weights)):\n",
    "    fold = 1\n",
    "    accuracies = []\n",
    "    auc_scores = []\n",
    "    for train, test in kfold.split(x_validate, y_validate):\n",
    "\n",
    "        with mlflow.start_run():\n",
    "            weight = anomaly_weights[f]\n",
    "            mlflow.log_param(\"anomaly_weight\", weight)\n",
    "            class_weights = {\n",
    "                0:1,\n",
    "                1:weight\n",
    "            }\n",
    "\n",
    "            sk_model = LogisticRegression(max_iter=400, solver=\"newton-cg\", class_weight=class_weights).fit(x_validate[train], y_validate[train])\n",
    "\n",
    "            print('-'*40)\n",
    "            print(f\"\\nfold {fold}\\nAnomaly Weight: {weight}\")\n",
    "\n",
    "            train_acc = sk_model.score(x_validate[train], y_validate[train])\n",
    "            mlflow.log_metric(\"train_acc\", train_acc)\n",
    "\n",
    "            eval_acc = sk_model.score(x_validate[test], y_validate[test])\n",
    "            preds = sk_model.predict(x_validate[test])\n",
    "            mlflow.log_metric(\"eval_acc\", eval_acc)\n",
    "\n",
    "            try:\n",
    "                auc_score = roc_auc_score(y_validate[test], preds)\n",
    "            except:\n",
    "                auc_score = -1\n",
    "\n",
    "            mlflow.log_metric(\"auc_score\", auc_score)\n",
    "            print(f\"AUC: {auc_score}\\neval_acc: {eval_acc}\")\n",
    "\n",
    "            accuracies.append(eval_acc)\n",
    "            auc_scores.append(auc_score)\n",
    "\n",
    "            log = [sk_model, x_validate[test], y_validate[test], preds]\n",
    "            logs.append(log)\n",
    "            fold += 1\n",
    "            mlflow.end_run()\n",
    "\n",
    "    print(\"\\nAverages : \")\n",
    "    print(\"Accuracy :\", np.mean(accuracies))\n",
    "    print(\"AUC :\", np.mean(auc_score))\n",
    "    print(\"Best :\")\n",
    "    print(\"Accuracy :\", np.max(accuracies))\n",
    "    print(\"AUC :\", np.max(auc_score))"
   ],
   "metadata": {
    "collapsed": false,
    "pycharm": {
     "name": "#%%\n"
    }
   }
  }
 ],
 "metadata": {
  "kernelspec": {
   "display_name": "Python 3",
   "language": "python",
   "name": "python3"
  },
  "language_info": {
   "codemirror_mode": {
    "name": "ipython",
    "version": 2
   },
   "file_extension": ".py",
   "mimetype": "text/x-python",
   "name": "python",
   "nbconvert_exporter": "python",
   "pygments_lexer": "ipython2",
   "version": "2.7.6"
  }
 },
 "nbformat": 4,
 "nbformat_minor": 0
}