{
 "cells": [
  {
   "cell_type": "code",
   "execution_count": 1,
   "outputs": [],
   "source": [
    "import numpy as np\n",
    "import pandas as pd\n",
    "import matplotlib\n",
    "import matplotlib.pyplot as plt\n",
    "import seaborn as sns\n",
    "import sklearn\n",
    "from sklearn.linear_model import LogisticRegression\n",
    "from sklearn.model_selection import train_test_split, KFold\n",
    "from sklearn.preprocessing import StandardScaler\n",
    "from sklearn.metrics import roc_auc_score, plot_roc_curve, confusion_matrix"
   ],
   "metadata": {
    "collapsed": false,
    "pycharm": {
     "name": "#%%\n"
    }
   }
  },
  {
   "cell_type": "code",
   "execution_count": 2,
   "outputs": [],
   "source": [
    "data_path = \"data/creditcard.csv\"\n",
    "df = pd.read_csv(data_path)"
   ],
   "metadata": {
    "collapsed": false,
    "pycharm": {
     "name": "#%%\n"
    }
   }
  },
  {
   "cell_type": "code",
   "execution_count": 3,
   "outputs": [],
   "source": [
    "normal = df[df.Class==0].sample(frac=0.5, random_state=2020).reset_index(drop=True)\n",
    "anomaly = df[df.Class==1]"
   ],
   "metadata": {
    "collapsed": false,
    "pycharm": {
     "name": "#%%\n"
    }
   }
  },
  {
   "cell_type": "code",
   "execution_count": 4,
   "outputs": [
    {
     "name": "stdout",
     "output_type": "stream",
     "text": [
      "Normal : (142158, 31)\n",
      "Anomaly : (492, 31)\n"
     ]
    }
   ],
   "source": [
    "print(f\"Normal : {normal.shape}\")\n",
    "print(f\"Anomaly : {anomaly.shape}\")"
   ],
   "metadata": {
    "collapsed": false,
    "pycharm": {
     "name": "#%%\n"
    }
   }
  },
  {
   "cell_type": "code",
   "execution_count": 6,
   "outputs": [],
   "source": [
    "normal_train, normal_test = train_test_split(normal, test_size=0.2, random_state=2020)\n",
    "anomaly_train, anomaly_test = train_test_split(anomaly, test_size=0.2, random_state=2020)"
   ],
   "metadata": {
    "collapsed": false,
    "pycharm": {
     "name": "#%%\n"
    }
   }
  },
  {
   "cell_type": "code",
   "execution_count": 7,
   "outputs": [],
   "source": [
    "normal_train, normal_validate = train_test_split(normal_train, test_size=0.25, random_state=2020)\n",
    "anomaly_train, anomaly_validate = train_test_split(anomaly_train, test_size=0.25, random_state=2020)"
   ],
   "metadata": {
    "collapsed": false,
    "pycharm": {
     "name": "#%%\n"
    }
   }
  },
  {
   "cell_type": "code",
   "execution_count": 8,
   "outputs": [],
   "source": [
    "x_train = pd.concat((normal_train, anomaly_train))\n",
    "x_test = pd.concat((normal_test, anomaly_test))\n",
    "x_validate = pd.concat((normal_validate, anomaly_validate))\n",
    "\n",
    "y_train = np.array(x_train[\"Class\"])\n",
    "y_test = np.array(x_test[\"Class\"])\n",
    "y_validate = np.array(x_validate[\"Class\"])\n",
    "\n",
    "x_train = x_train.drop(\"Class\", axis=1)\n",
    "x_test = x_test.drop(\"Class\", axis=1)\n",
    "x_validate = x_validate.drop(\"Class\", axis=1)"
   ],
   "metadata": {
    "collapsed": false,
    "pycharm": {
     "name": "#%%\n"
    }
   }
  },
  {
   "cell_type": "code",
   "execution_count": 10,
   "outputs": [],
   "source": [
    "scaler = StandardScaler()\n",
    "scaler.fit(pd.concat((normal, anomaly)).drop(\"Class\", axis=1))\n",
    "\n",
    "x_train = scaler.transform(x_train)\n",
    "x_test = scaler.transform(x_test)\n",
    "x_validate = scaler.transform(x_validate)\n",
    "\n",
    "# 데이터 스케일링. 원래는 fit도 훈련 데이터만 사용해서 해야하는데 책에서는 전체를 다 사용함"
   ],
   "metadata": {
    "collapsed": false,
    "pycharm": {
     "name": "#%%\n"
    }
   }
  },
  {
   "cell_type": "code",
   "execution_count": 11,
   "outputs": [],
   "source": [
    "sk_model = LogisticRegression(random_state=None, max_iter=400, solver=\"newton-cg\").fit(x_train, y_train)"
   ],
   "metadata": {
    "collapsed": false,
    "pycharm": {
     "name": "#%%\n"
    }
   }
  },
  {
   "cell_type": "code",
   "execution_count": 12,
   "outputs": [],
   "source": [
    "eval_acc = sk_model.score(x_test, y_test)"
   ],
   "metadata": {
    "collapsed": false,
    "pycharm": {
     "name": "#%%\n"
    }
   }
  },
  {
   "cell_type": "code",
   "execution_count": 13,
   "outputs": [],
   "source": [
    "preds = sk_model.predict(x_test)\n",
    "auc_score = roc_auc_score(y_test, preds)"
   ],
   "metadata": {
    "collapsed": false,
    "pycharm": {
     "name": "#%%\n"
    }
   }
  },
  {
   "cell_type": "code",
   "execution_count": 14,
   "outputs": [
    {
     "name": "stdout",
     "output_type": "stream",
     "text": [
      "Auc Score : 84.331%\n",
      "Eval Accuracy : 99.867%\n"
     ]
    }
   ],
   "source": [
    "print(f\"Auc Score : {auc_score:.3%}\")\n",
    "print(f\"Eval Accuracy : {eval_acc:.3%}\")"
   ],
   "metadata": {
    "collapsed": false,
    "pycharm": {
     "name": "#%%\n"
    }
   }
  },
  {
   "cell_type": "code",
   "execution_count": 15,
   "outputs": [
    {
     "data": {
      "text/plain": "Text(0.5, 15.0, 'Predicted')"
     },
     "execution_count": 15,
     "metadata": {},
     "output_type": "execute_result"
    },
    {
     "data": {
      "text/plain": "<Figure size 432x288 with 2 Axes>",
      "image/png": "[encoded data removed]"
     },
     "metadata": {
      "needs_background": "light"
     },
     "output_type": "display_data"
    }
   ],
   "source": [
    "conf_matrix = confusion_matrix(y_test, preds)\n",
    "ax = sns.heatmap(conf_matrix, annot=True, fmt='g')\n",
    "ax.invert_xaxis()\n",
    "ax.invert_yaxis()\n",
    "plt.ylabel('Actual')\n",
    "plt.xlabel('Predicted')"
   ],
   "metadata": {
    "collapsed": false,
    "pycharm": {
     "name": "#%%\n"
    }
   }
  },
  {
   "cell_type": "code",
   "execution_count": 17,
   "outputs": [],
   "source": [
    "anomaly_weights = [1, 5, 10, 15]\n",
    "num_folds = 5\n",
    "kfold = KFold(n_splits=num_folds, shuffle=True, random_state=2020)"
   ],
   "metadata": {
    "collapsed": false,
    "pycharm": {
     "name": "#%%\n"
    }
   }
  },
  {
   "cell_type": "code",
   "execution_count": 19,
   "outputs": [
    {
     "name": "stdout",
     "output_type": "stream",
     "text": [
      "----------------------------------------\n",
      "\n",
      "fold 1\n",
      "Anomaly Weight: 1\n",
      "AUC: 0.8\n",
      "eval_acc: 0.9985982127212195\n",
      "----------------------------------------\n",
      "\n",
      "fold 2\n",
      "Anomaly Weight: 1\n",
      "AUC: 0.8568790049001132\n",
      "eval_acc: 0.998422712933754\n",
      "----------------------------------------\n",
      "\n",
      "fold 3\n",
      "Anomaly Weight: 1\n",
      "AUC: 0.8179179195189047\n",
      "eval_acc: 0.9980722046968104\n",
      "----------------------------------------\n",
      "\n",
      "fold 4\n",
      "Anomaly Weight: 1\n",
      "AUC: 0.8682452129973255\n",
      "eval_acc: 0.9987732211706976\n",
      "----------------------------------------\n",
      "\n",
      "fold 5\n",
      "Anomaly Weight: 1\n",
      "AUC: 0.8528532875621686\n",
      "eval_acc: 0.9989484752891693\n",
      "\n",
      "Averages : \n",
      "Accuracy : 0.9985629653623302\n",
      "AUC : 0.8528532875621686\n",
      "Best :\n",
      "Accuracy : 0.9989484752891693\n",
      "AUC : 0.8528532875621686\n",
      "----------------------------------------\n",
      "\n",
      "fold 1\n",
      "Anomaly Weight: 5\n",
      "AUC: 0.8748241603657465\n",
      "eval_acc: 0.9987734361310671\n",
      "----------------------------------------\n",
      "\n",
      "fold 2\n",
      "Anomaly Weight: 5\n",
      "AUC: 0.9515893956527202\n",
      "eval_acc: 0.9980722046968104\n",
      "----------------------------------------\n",
      "\n",
      "fold 3\n",
      "Anomaly Weight: 5\n",
      "AUC: 0.9314663169342972\n",
      "eval_acc: 0.9987732211706976\n",
      "----------------------------------------\n",
      "\n",
      "fold 4\n",
      "Anomaly Weight: 5\n",
      "AUC: 0.8943851628367561\n",
      "eval_acc: 0.9985979670522257\n",
      "----------------------------------------\n",
      "\n",
      "fold 5\n",
      "Anomaly Weight: 5\n",
      "AUC: 0.8820013855427915\n",
      "eval_acc: 0.9985979670522257\n",
      "\n",
      "Averages : \n",
      "Accuracy : 0.9985629592206052\n",
      "AUC : 0.8820013855427915\n",
      "Best :\n",
      "Accuracy : 0.9987734361310671\n",
      "AUC : 0.8820013855427915\n",
      "----------------------------------------\n",
      "\n",
      "fold 1\n",
      "Anomaly Weight: 10\n",
      "AUC: 0.9245604009143662\n",
      "eval_acc: 0.9985982127212195\n",
      "----------------------------------------\n",
      "\n",
      "fold 2\n",
      "Anomaly Weight: 10\n",
      "AUC: 0.9751350672194998\n",
      "eval_acc: 0.9977216964598669\n",
      "----------------------------------------\n",
      "\n",
      "fold 3\n",
      "Anomaly Weight: 10\n",
      "AUC: 0.9313783507133262\n",
      "eval_acc: 0.9985979670522257\n",
      "----------------------------------------\n",
      "\n",
      "fold 4\n",
      "Anomaly Weight: 10\n",
      "AUC: 0.8942972430196292\n",
      "eval_acc: 0.998422712933754\n",
      "----------------------------------------\n",
      "\n",
      "fold 5\n",
      "Anomaly Weight: 10\n",
      "AUC: 0.8820013855427915\n",
      "eval_acc: 0.9985979670522257\n",
      "\n",
      "Averages : \n",
      "Accuracy : 0.9983877112438584\n",
      "AUC : 0.8820013855427915\n",
      "Best :\n",
      "Accuracy : 0.9985982127212195\n",
      "AUC : 0.8820013855427915\n",
      "----------------------------------------\n",
      "\n",
      "fold 1\n",
      "Anomaly Weight: 15\n",
      "AUC: 0.9242087216458591\n",
      "eval_acc: 0.9978973190818293\n",
      "----------------------------------------\n",
      "\n",
      "fold 2\n",
      "Anomaly Weight: 15\n",
      "AUC: 0.9749591657243373\n",
      "eval_acc: 0.9973711882229233\n",
      "----------------------------------------\n",
      "\n",
      "fold 3\n",
      "Anomaly Weight: 15\n",
      "AUC: 0.9313783507133262\n",
      "eval_acc: 0.9985979670522257\n",
      "----------------------------------------\n",
      "\n",
      "fold 4\n",
      "Anomaly Weight: 15\n",
      "AUC: 0.8938576439339954\n",
      "eval_acc: 0.997546442341395\n",
      "----------------------------------------\n",
      "\n",
      "fold 5\n",
      "Anomaly Weight: 15\n",
      "AUC: 0.8813861631838532\n",
      "eval_acc: 0.9973711882229233\n",
      "\n",
      "Averages : \n",
      "Accuracy : 0.9977568209842593\n",
      "AUC : 0.8813861631838532\n",
      "Best :\n",
      "Accuracy : 0.9985979670522257\n",
      "AUC : 0.8813861631838532\n"
     ]
    }
   ],
   "source": [
    "# 검증\n",
    "logs = []\n",
    "\n",
    "for f in range(len(anomaly_weights)):\n",
    "    fold = 1\n",
    "    accuracies = []\n",
    "    auc_scores = []\n",
    "    for train, test in kfold.split(x_validate, y_validate):\n",
    "        weight = anomaly_weights[f]\n",
    "        class_weights = {\n",
    "            0:1,\n",
    "            1:weight\n",
    "        }\n",
    "\n",
    "        sk_model = LogisticRegression(max_iter=400, solver=\"newton-cg\", class_weight=class_weights).fit(x_validate[train], y_validate[train])\n",
    "\n",
    "        print('-'*40)\n",
    "        print(f\"\\nfold {fold}\\nAnomaly Weight: {weight}\")\n",
    "        eval_acc = sk_model.score(x_validate[test], y_validate[test])\n",
    "        preds = sk_model.predict(x_validate[test])\n",
    "\n",
    "        try:\n",
    "            auc_score = roc_auc_score(y_validate[test], preds)\n",
    "        except:\n",
    "            auc_score = -1\n",
    "\n",
    "        print(f\"AUC: {auc_score}\\neval_acc: {eval_acc}\")\n",
    "\n",
    "        accuracies.append(eval_acc)\n",
    "        auc_scores.append(auc_score)\n",
    "\n",
    "        log = [sk_model, x_validate[test], y_validate[test], preds]\n",
    "        logs.append(log)\n",
    "        fold += 1\n",
    "\n",
    "    print(\"\\nAverages : \")\n",
    "    print(\"Accuracy :\", np.mean(accuracies))\n",
    "    print(\"AUC :\", np.mean(auc_score))\n",
    "    print(\"Best :\")\n",
    "    print(\"Accuracy :\", np.max(accuracies))\n",
    "    print(\"AUC :\", np.max(auc_score))"
   ],
   "metadata": {
    "collapsed": false,
    "pycharm": {
     "name": "#%%\n"
    }
   }
  },
  {
   "cell_type": "code",
   "execution_count": 20,
   "outputs": [],
   "source": [
    "sk_model, x_val, y_val, preds = logs[11]"
   ],
   "metadata": {
    "collapsed": false,
    "pycharm": {
     "name": "#%%\n"
    }
   }
  },
  {
   "cell_type": "code",
   "execution_count": 21,
   "outputs": [
    {
     "data": {
      "text/plain": "<Figure size 432x288 with 1 Axes>",
      "image/png": "[encoded data removed]"
     },
     "metadata": {
      "needs_background": "light"
     },
     "output_type": "display_data"
    }
   ],
   "source": [
    "roc_plot = plot_roc_curve(sk_model, x_val, y_val, name=\"ScikitlearnROC Curve\")"
   ],
   "metadata": {
    "collapsed": false,
    "pycharm": {
     "name": "#%%\n"
    }
   }
  },
  {
   "cell_type": "code",
   "execution_count": 22,
   "outputs": [
    {
     "data": {
      "text/plain": "Text(0.5, 15.0, 'Predicted')"
     },
     "execution_count": 22,
     "metadata": {},
     "output_type": "execute_result"
    },
    {
     "data": {
      "text/plain": "<Figure size 432x288 with 2 Axes>",
      "image/png": "[encoded data removed]"
     },
     "metadata": {
      "needs_background": "light"
     },
     "output_type": "display_data"
    }
   ],
   "source": [
    "conf_matrix = confusion_matrix(y_val, preds)\n",
    "ax = sns.heatmap(conf_matrix, annot=True, fmt='g')\n",
    "ax.invert_xaxis()\n",
    "ax.invert_yaxis()\n",
    "plt.ylabel('Actual')\n",
    "plt.xlabel('Predicted')\n",
    "\n",
    "# 최적 파라미터 조합일 때의 컨퓨전 매트릭스. 디폴트 파라미터일때보다 더 나은 결과를 보여줌"
   ],
   "metadata": {
    "collapsed": false,
    "pycharm": {
     "name": "#%%\n"
    }
   }
  }
 ],
 "metadata": {
  "kernelspec": {
   "display_name": "Python 3",
   "language": "python",
   "name": "python3"
  },
  "language_info": {
   "codemirror_mode": {
    "name": "ipython",
    "version": 2
   },
   "file_extension": ".py",
   "mimetype": "text/x-python",
   "name": "python",
   "nbconvert_exporter": "python",
   "pygments_lexer": "ipython2",
   "version": "2.7.6"
  }
 },
 "nbformat": 4,
 "nbformat_minor": 0
}